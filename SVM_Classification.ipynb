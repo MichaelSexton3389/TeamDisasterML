{
 "cells": [
  {
   "cell_type": "markdown",
   "id": "8c503c75",
   "metadata": {},
   "source": [
    "# Import libraries and read the DataFrame"
   ]
  },
  {
   "cell_type": "code",
   "execution_count": 1,
   "id": "072f22a0",
   "metadata": {},
   "outputs": [],
   "source": [
    "#!pip install imbalanced-learn\n",
    "import pandas as pd\n",
    "import numpy as np\n",
    "import matplotlib.pyplot as plt\n",
    "import seaborn as sns\n",
    "\n",
    "from sklearn.model_selection import train_test_split\n",
    "from sklearn.preprocessing import LabelEncoder\n",
    "from sklearn.svm import SVC, LinearSVC\n",
    "from sklearn.metrics import accuracy_score, classification_report\n",
    "from sklearn.preprocessing import StandardScaler\n",
    "from sklearn.model_selection import KFold, cross_val_score, GridSearchCV\n",
    "from sklearn.metrics import confusion_matrix, ConfusionMatrixDisplay\n",
    "from sklearn.ensemble import RandomForestClassifier\n",
    "from imblearn.over_sampling import SMOTE\n",
    "from sklearn.feature_selection import SelectKBest, chi2\n",
    "from sklearn.model_selection import RandomizedSearchCV"
   ]
  },
  {
   "cell_type": "code",
   "execution_count": 2,
   "id": "6366f37e",
   "metadata": {},
   "outputs": [
    {
     "ename": "NameError",
     "evalue": "name 'features' is not defined",
     "output_type": "error",
     "traceback": [
      "\u001b[1;31m---------------------------------------------------------------------------\u001b[0m",
      "\u001b[1;31mNameError\u001b[0m                                 Traceback (most recent call last)",
      "Input \u001b[1;32mIn [2]\u001b[0m, in \u001b[0;36m<cell line: 10>\u001b[1;34m()\u001b[0m\n\u001b[0;32m      5\u001b[0m \u001b[38;5;66;03m# len(np.unique(data['Disaster Type']))\u001b[39;00m\n\u001b[0;32m      6\u001b[0m \u001b[38;5;66;03m# print(np.unique(data['Disaster Group']))\u001b[39;00m\n\u001b[0;32m      7\u001b[0m \n\u001b[0;32m      8\u001b[0m \u001b[38;5;66;03m# Select top 5 features based on chi2 score\u001b[39;00m\n\u001b[0;32m      9\u001b[0m selector \u001b[38;5;241m=\u001b[39m SelectKBest(score_func\u001b[38;5;241m=\u001b[39mchi2, k\u001b[38;5;241m=\u001b[39m\u001b[38;5;241m8\u001b[39m)  \u001b[38;5;66;03m# Select the top 5 features\u001b[39;00m\n\u001b[1;32m---> 10\u001b[0m X_new \u001b[38;5;241m=\u001b[39m selector\u001b[38;5;241m.\u001b[39mfit_transform(\u001b[43mfeatures\u001b[49m, target)\n\u001b[0;32m     12\u001b[0m \u001b[38;5;66;03m# Get the feature scores and corresponding feature names\u001b[39;00m\n\u001b[0;32m     13\u001b[0m scores \u001b[38;5;241m=\u001b[39m selector\u001b[38;5;241m.\u001b[39mscores_\n",
      "\u001b[1;31mNameError\u001b[0m: name 'features' is not defined"
     ]
    }
   ],
   "source": [
    "# Load dataset\n",
    "data = pd.read_csv('./data/emdat_1900-2024_cleaned.csv')\n",
    "\n",
    "data.columns\n",
    "# len(np.unique(data['Disaster Type']))\n",
    "# print(np.unique(data['Disaster Group']))\n",
    "\n",
    "# Select top 5 features based on chi2 score\n",
    "selector = SelectKBest(score_func=chi2, k=8)  # Select the top 5 features\n",
    "X_new = selector.fit_transform(features, target)\n",
    "\n",
    "# Get the feature scores and corresponding feature names\n",
    "scores = selector.scores_\n",
    "feature_names = features.columns\n",
    "\n",
    "# Create a DataFrame to display feature names and their corresponding scores\n",
    "feature_scores = pd.DataFrame({'Feature': feature_names, 'Score': scores})\n",
    "\n",
    "# Sort by score in descending order\n",
    "feature_scores_sorted = feature_scores.sort_values(by='Score', ascending=False)\n",
    "\n",
    "# Display the top features\n",
    "print(feature_scores_sorted.head(8))"
   ]
  },
  {
   "cell_type": "code",
   "execution_count": 20,
   "id": "9e3b0d23",
   "metadata": {},
   "outputs": [
    {
     "name": "stdout",
     "output_type": "stream",
     "text": [
      "       Disaster Type  Total Deaths  Total Affected  No. Injured  No. Affected  \\\n",
      "0                 28   6000.000000    4.938414e+05  1283.685936  7.783234e+05   \n",
      "1                 11    300.000000    4.938414e+05  1283.685936  7.783234e+05   \n",
      "2                 13    300.000000    4.938414e+05  1283.685936  7.783234e+05   \n",
      "3                  7     30.000000    4.938414e+05  1283.685936  7.783234e+05   \n",
      "4                 29     30.000000    4.938414e+05  1283.685936  7.783234e+05   \n",
      "...              ...           ...             ...          ...           ...   \n",
      "26788              5   1553.451113    7.600000e+06  1283.685936  7.600000e+06   \n",
      "26789              5   1553.451113    2.660000e+05  1283.685936  2.660000e+05   \n",
      "26790              5   1553.451113    1.655000e+06  1283.685936  1.655000e+06   \n",
      "26791              5   1553.451113    1.000000e+05  1283.685936  1.000000e+05   \n",
      "26792              5   1553.451113    2.800000e+06  1283.685936  2.800000e+06   \n",
      "\n",
      "             CPI  Start Month  End Month  Magnitude_Km2  Magnitude_Km2  \\\n",
      "0       2.730451          9.0   9.000000              0              0   \n",
      "1       2.730451          6.0   6.000000              0              0   \n",
      "2       2.730451          1.0   1.000000              1              1   \n",
      "3       2.730451          1.0   1.000000              0              0   \n",
      "4       2.730451          7.0   7.000000              1              1   \n",
      "...          ...          ...        ...            ...            ...   \n",
      "26788  57.476863          4.0   6.582541              1              1   \n",
      "26789  57.476863          1.0   6.000000              1              1   \n",
      "26790  57.476863          5.0   9.000000              1              1   \n",
      "26791  57.476863          5.0   7.000000              1              1   \n",
      "26792  57.476863          6.0   8.000000              1              1   \n",
      "\n",
      "       Magnitude_Kph  Magnitude_Kph  Magnitude_Moment Magnitude  \\\n",
      "0                  1              1                           0   \n",
      "1                  0              0                           0   \n",
      "2                  0              0                           0   \n",
      "3                  0              0                           0   \n",
      "4                  0              0                           0   \n",
      "...              ...            ...                         ...   \n",
      "26788              0              0                           0   \n",
      "26789              0              0                           0   \n",
      "26790              0              0                           0   \n",
      "26791              0              0                           0   \n",
      "26792              0              0                           0   \n",
      "\n",
      "       Magnitude_Moment Magnitude  Magnitude_Vaccinated  Magnitude_Vaccinated  \\\n",
      "0                               0                     0                     0   \n",
      "1                               0                     0                     0   \n",
      "2                               0                     0                     0   \n",
      "3                               0                     1                     1   \n",
      "4                               0                     0                     0   \n",
      "...                           ...                   ...                   ...   \n",
      "26788                           0                     0                     0   \n",
      "26789                           0                     0                     0   \n",
      "26790                           0                     0                     0   \n",
      "26791                           0                     0                     0   \n",
      "26792                           0                     0                     0   \n",
      "\n",
      "       Magnitude_m3  Magnitude_m3  Magnitude_°C  Magnitude_°C  \n",
      "0                 0             0             0             0  \n",
      "1                 1             1             0             0  \n",
      "2                 0             0             0             0  \n",
      "3                 0             0             0             0  \n",
      "4                 0             0             0             0  \n",
      "...             ...           ...           ...           ...  \n",
      "26788             0             0             0             0  \n",
      "26789             0             0             0             0  \n",
      "26790             0             0             0             0  \n",
      "26791             0             0             0             0  \n",
      "26792             0             0             0             0  \n",
      "\n",
      "[26793 rows x 20 columns]\n",
      "['Americas' 'Asia' 'Africa' 'Europe' 'Oceania']\n"
     ]
    },
    {
     "name": "stderr",
     "output_type": "stream",
     "text": [
      "C:\\Users\\Stefa\\AppData\\Local\\Temp\\ipykernel_15280\\2339457811.py:15: SettingWithCopyWarning: \n",
      "A value is trying to be set on a copy of a slice from a DataFrame.\n",
      "Try using .loc[row_indexer,col_indexer] = value instead\n",
      "\n",
      "See the caveats in the documentation: https://pandas.pydata.org/pandas-docs/stable/user_guide/indexing.html#returning-a-view-versus-a-copy\n",
      "  features['Disaster Type'] = label_encoder.fit_transform(features['Disaster Type'])\n"
     ]
    }
   ],
   "source": [
    "# One-hot encoding the Magnitude Scale column\n",
    "magnitude_dummies = pd.get_dummies(data['Magnitude Scale'], prefix='Magnitude')\n",
    "\n",
    "# Concatenate the one-hot encoded columns with the original dataframe\n",
    "data = pd.concat([data, magnitude_dummies], axis=1)\n",
    "\n",
    "# Extract relevant features and target feature\n",
    "features = data[['Disaster Type', 'Total Deaths', 'Total Affected', 'No. Injured', 'No. Affected', 'CPI', 'Start Month', 'End Month'] \n",
    "                + list(magnitude_dummies.columns)]\n",
    "#features = data[['Total Deaths', 'Total Affected', 'No. Injured', 'No. Affected']]\n",
    "target = data['Subregion']\n",
    "\n",
    "# Encode categorical variables\n",
    "label_encoder = LabelEncoder()\n",
    "features['Disaster Type'] = label_encoder.fit_transform(features['Disaster Type'])\n",
    "\n",
    "# Drop duplicate columns if they exist\n",
    "data = data.loc[:, ~data.columns.duplicated()]\n",
    "data\n",
    "# Check for unique values in the 'Magnitude Scale' column\n",
    "\n",
    "print(features)\n",
    "# # Select top 5 features based on chi2 score\n",
    "# selector = SelectKBest(score_func=chi2, k=8)  # Select the top 5 features\n",
    "# X_new = selector.fit_transform(features, target)\n",
    "\n",
    "# # Get the feature scores and corresponding feature names\n",
    "# scores = selector.scores_\n",
    "# feature_names = features.columns\n",
    "\n",
    "# # Create a DataFrame to display feature names and their corresponding scores\n",
    "# feature_scores = pd.DataFrame({'Feature': feature_names, 'Score': scores})\n",
    "\n",
    "# # Sort by score in descending order\n",
    "# feature_scores_sorted = feature_scores.sort_values(by='Score', ascending=False)\n",
    "\n",
    "# # Display the top features\n",
    "# print(feature_scores_sorted.head(8))\n",
    "print(data['Region'].unique())"
   ]
  },
  {
   "cell_type": "markdown",
   "id": "26a3505c",
   "metadata": {},
   "source": [
    "Fit a simple SVM model"
   ]
  },
  {
   "cell_type": "code",
   "execution_count": 4,
   "id": "226fc517",
   "metadata": {},
   "outputs": [
    {
     "name": "stdout",
     "output_type": "stream",
     "text": [
      "Accuracy: 0.2756111214778877\n"
     ]
    }
   ],
   "source": [
    "# Split the data into training and test sets\n",
    "X_train, X_test, y_train, y_test = train_test_split(features, target, test_size=0.2, random_state=42)\n",
    "\n",
    "# Scale the features\n",
    "scaler = StandardScaler()\n",
    "X_train_scaled = scaler.fit_transform(X_train)\n",
    "X_test_scaled = scaler.transform(X_test)\n",
    "\n",
    "svm = SVC()\n",
    "\n",
    "svm.fit(X_train_scaled, y_train)\n",
    "\n",
    "# Make predictions\n",
    "y_pred = svm.predict(X_test_scaled)\n",
    "\n",
    "# Evalute accuracy \n",
    "accuracy = accuracy_score(y_test, y_pred)\n",
    "\n",
    "print(f\"Accuracy: {accuracy}\")"
   ]
  },
  {
   "cell_type": "markdown",
   "id": "8fec9332",
   "metadata": {},
   "source": [
    "Apply SMOTE Technique"
   ]
  },
  {
   "cell_type": "code",
   "execution_count": 5,
   "id": "a445b65d",
   "metadata": {},
   "outputs": [
    {
     "name": "stdout",
     "output_type": "stream",
     "text": [
      "Accuracy: 0.13509983205821982\n"
     ]
    }
   ],
   "source": [
    "# Split the data into training and test sets\n",
    "X_train, X_test, y_train, y_test = train_test_split(features, target, test_size=0.2, random_state=42)\n",
    "\n",
    "# Scale the features\n",
    "scaler = StandardScaler()\n",
    "X_train_scaled = scaler.fit_transform(X_train)\n",
    "X_test_scaled = scaler.transform(X_test)\n",
    "\n",
    "# Apply SMOTE to handle class imbalance\n",
    "smote = SMOTE(random_state=42)\n",
    "X_train_smote, y_train_smote = smote.fit_resample(X_train_scaled, y_train)\n",
    "\n",
    "svm = SVC()\n",
    "\n",
    "svm.fit(X_train_smote, y_train_smote)\n",
    "\n",
    "# Make predictions\n",
    "y_pred = svm.predict(X_test_scaled)\n",
    "\n",
    "# Evalute accuracy \n",
    "accuracy = accuracy_score(y_test, y_pred)\n",
    "\n",
    "print(f\"Accuracy: {accuracy}\")"
   ]
  },
  {
   "cell_type": "markdown",
   "id": "93b314fa",
   "metadata": {},
   "source": [
    "Perform Hyperparameter tuning - RandomizedSearchCV"
   ]
  },
  {
   "cell_type": "code",
   "execution_count": 6,
   "id": "61627d02",
   "metadata": {},
   "outputs": [
    {
     "name": "stdout",
     "output_type": "stream",
     "text": [
      "Best parameters: {'kernel': 'rbf', 'gamma': 'auto', 'class_weight': None, 'C': 1}\n"
     ]
    }
   ],
   "source": [
    "# Split the data into training and test sets\n",
    "X_train, X_test, y_train, y_test = train_test_split(features, target, test_size=0.2, random_state=42)\n",
    "\n",
    "# # Apply SMOTE to handle class imbalance\n",
    "# smote = SMOTE(random_state=42)\n",
    "# X_train_smote, y_train_smote = smote.fit_resample(X_train_scaled, y_train)\n",
    "\n",
    "# Scale the features\n",
    "scaler = StandardScaler()\n",
    "X_train_scaled = scaler.fit_transform(X_train)\n",
    "X_test_scaled = scaler.transform(X_test)\n",
    "\n",
    "# Use a smaller portion of the training set for hyperparameter tuning\n",
    "X_train_small, _, y_train_small, _ = train_test_split(X_train_scaled, y_train, test_size=0.7, random_state=42)\n",
    "\n",
    "# Define the parameter grid\n",
    "param_grid = {\n",
    "    'C': [0.1, 1, 5],\n",
    "    'gamma': ['scale', 'auto', 0.001, 0.01],\n",
    "    'kernel': ['linear', 'rbf'],\n",
    "    'class_weight': [None, 'balanced']\n",
    "}\n",
    "\n",
    "# Initialize the SVM model\n",
    "svm = SVC()\n",
    "\n",
    "# Apply RandomizedSearchCV for hyperparameter tuning on the small dataset\n",
    "random_search = RandomizedSearchCV(estimator=svm, param_distributions=param_grid, n_iter=10, cv=3, random_state=42, n_jobs=-1)\n",
    "random_search.fit(X_train_small, y_train_small)\n",
    "\n",
    "# Best parameters found by RandomizedSearchCV\n",
    "print(f\"Best parameters: {random_search.best_params_}\")"
   ]
  },
  {
   "cell_type": "code",
   "execution_count": 10,
   "id": "d7379b53",
   "metadata": {},
   "outputs": [
    {
     "name": "stdout",
     "output_type": "stream",
     "text": [
      "Accuracy: 0.28\n",
      "                                 precision    recall  f1-score   support\n",
      "\n",
      "      Australia and New Zealand       0.00      0.00      0.00        75\n",
      "                   Central Asia       0.00      0.00      0.00        48\n",
      "                   Eastern Asia       0.33      0.42      0.37       632\n",
      "                 Eastern Europe       0.24      0.04      0.06       225\n",
      "Latin America and the Caribbean       0.25      0.20      0.22       835\n",
      "                      Melanesia       0.00      0.00      0.00        49\n",
      "                     Micronesia       0.00      0.00      0.00        13\n",
      "                Northern Africa       0.00      0.00      0.00       175\n",
      "               Northern America       0.27      0.25      0.26       361\n",
      "                Northern Europe       0.00      0.00      0.00        82\n",
      "                      Polynesia       0.00      0.00      0.00        18\n",
      "             South-eastern Asia       0.33      0.01      0.02       565\n",
      "                  Southern Asia       0.28      0.16      0.20       757\n",
      "                Southern Europe       0.20      0.00      0.01       207\n",
      "             Sub-Saharan Africa       0.27      0.84      0.41       965\n",
      "                   Western Asia       0.00      0.00      0.00       183\n",
      "                 Western Europe       0.23      0.04      0.06       169\n",
      "\n",
      "                       accuracy                           0.28      5359\n",
      "                      macro avg       0.14      0.12      0.09      5359\n",
      "                   weighted avg       0.24      0.28      0.20      5359\n",
      "\n"
     ]
    },
    {
     "name": "stderr",
     "output_type": "stream",
     "text": [
      "C:\\Users\\Stefa\\anaconda3\\lib\\site-packages\\sklearn\\metrics\\_classification.py:1318: UndefinedMetricWarning: Precision and F-score are ill-defined and being set to 0.0 in labels with no predicted samples. Use `zero_division` parameter to control this behavior.\n",
      "  _warn_prf(average, modifier, msg_start, len(result))\n",
      "C:\\Users\\Stefa\\anaconda3\\lib\\site-packages\\sklearn\\metrics\\_classification.py:1318: UndefinedMetricWarning: Precision and F-score are ill-defined and being set to 0.0 in labels with no predicted samples. Use `zero_division` parameter to control this behavior.\n",
      "  _warn_prf(average, modifier, msg_start, len(result))\n",
      "C:\\Users\\Stefa\\anaconda3\\lib\\site-packages\\sklearn\\metrics\\_classification.py:1318: UndefinedMetricWarning: Precision and F-score are ill-defined and being set to 0.0 in labels with no predicted samples. Use `zero_division` parameter to control this behavior.\n",
      "  _warn_prf(average, modifier, msg_start, len(result))\n"
     ]
    }
   ],
   "source": [
    "# Best parameters found by RandomizedSearchCV\n",
    "best_params = random_search.best_params_\n",
    "\n",
    "# Initialize a new SVM model with the best parameters\n",
    "svm_best = SVC(C=best_params['C'], \n",
    "               gamma=best_params['gamma'], \n",
    "               kernel=best_params['kernel'], \n",
    "               class_weight=best_params['class_weight'])\n",
    "\n",
    "# Train the model on the full training set\n",
    "svm_best.fit(X_train_scaled, y_train)\n",
    "\n",
    "# Predict on the test set\n",
    "y_pred = svm_best.predict(X_test_scaled)\n",
    "\n",
    "# Print accuracy\n",
    "accuracy = accuracy_score(y_test, y_pred)\n",
    "print(f\"Accuracy: {accuracy:.2f}\")\n",
    "# Evaluate the model\n",
    "print(classification_report(y_test, y_pred))"
   ]
  },
  {
   "cell_type": "code",
   "execution_count": null,
   "id": "b8907c2a",
   "metadata": {},
   "outputs": [],
   "source": [
    "# Convert cv_results_ to a DataFrame for easier plotting\n",
    "results = pd.DataFrame(grid_search.cv_results_)\n",
    "\n",
    "# Convert 'param_C' and 'param_gamma' to strings to avoid the TypeError\n",
    "results['param_C'] = results['param_C'].astype(str)\n",
    "results['param_gamma'] = results['param_gamma'].astype(str)\n",
    "                                                       \n",
    "# Plotting the effect of 'C' and 'gamma' on the model's mean test score\n",
    "plt.figure(figsize=(10, 6))\n",
    "sns.scatterplot(x='param_C', y='param_gamma', size='mean_test_score', hue='mean_test_score', data=results, palette='viridis', sizes=(20, 200))\n",
    "plt.title('Grid Search Results (Mean Test Score by C and Gamma)')\n",
    "plt.xlabel('C')\n",
    "plt.ylabel('Gamma')\n",
    "plt.colorbar(label='Mean Test Score')\n",
    "plt.show()"
   ]
  },
  {
   "cell_type": "code",
   "execution_count": null,
   "id": "660e5e62",
   "metadata": {},
   "outputs": [],
   "source": []
  },
  {
   "cell_type": "markdown",
   "id": "e7f7898d",
   "metadata": {},
   "source": [
    "Perform Hyperparameter tuning - GridSearchCV"
   ]
  },
  {
   "cell_type": "code",
   "execution_count": 11,
   "id": "a08d4063",
   "metadata": {},
   "outputs": [
    {
     "name": "stdout",
     "output_type": "stream",
     "text": [
      "Fitting 3 folds for each of 48 candidates, totalling 144 fits\n",
      "Best parameters: {'C': 5, 'class_weight': None, 'gamma': 'auto', 'kernel': 'rbf'}\n"
     ]
    }
   ],
   "source": [
    "# Apply GridSearchCV for hyperparameter tuning on the small dataset\n",
    "grid_search = GridSearchCV(estimator=svm, param_grid=param_grid, cv=3, n_jobs=-1, verbose=2)\n",
    "grid_search.fit(X_train_small, y_train_small)\n",
    "\n",
    "# Best parameters found by GridSearchCV\n",
    "print(f\"Best parameters: {grid_search.best_params_}\")"
   ]
  },
  {
   "cell_type": "code",
   "execution_count": 13,
   "id": "59703cae",
   "metadata": {},
   "outputs": [
    {
     "name": "stdout",
     "output_type": "stream",
     "text": [
      "Accuracy (Grid Search): 0.26684082851278224\n",
      "Classification Report (Grid Search):\n",
      "                                 precision    recall  f1-score   support\n",
      "\n",
      "      Australia and New Zealand       0.00      0.00      0.00        75\n",
      "                   Central Asia       0.00      0.00      0.00        48\n",
      "                   Eastern Asia       0.30      0.32      0.31       632\n",
      "                 Eastern Europe       0.16      0.02      0.04       225\n",
      "Latin America and the Caribbean       0.24      0.24      0.24       835\n",
      "                      Melanesia       0.00      0.00      0.00        49\n",
      "                     Micronesia       0.00      0.00      0.00        13\n",
      "                Northern Africa       0.00      0.00      0.00       175\n",
      "               Northern America       0.25      0.23      0.24       361\n",
      "                Northern Europe       0.00      0.00      0.00        82\n",
      "                      Polynesia       0.00      0.00      0.00        18\n",
      "             South-eastern Asia       0.00      0.00      0.00       565\n",
      "                  Southern Asia       0.28      0.18      0.22       757\n",
      "                Southern Europe       0.00      0.00      0.00       207\n",
      "             Sub-Saharan Africa       0.27      0.83      0.41       965\n",
      "                   Western Asia       0.00      0.00      0.00       183\n",
      "                 Western Europe       0.20      0.05      0.08       169\n",
      "\n",
      "                       accuracy                           0.27      5359\n",
      "                      macro avg       0.10      0.11      0.09      5359\n",
      "                   weighted avg       0.19      0.27      0.20      5359\n",
      "\n"
     ]
    },
    {
     "name": "stderr",
     "output_type": "stream",
     "text": [
      "C:\\Users\\Stefa\\anaconda3\\lib\\site-packages\\sklearn\\metrics\\_classification.py:1318: UndefinedMetricWarning: Precision and F-score are ill-defined and being set to 0.0 in labels with no predicted samples. Use `zero_division` parameter to control this behavior.\n",
      "  _warn_prf(average, modifier, msg_start, len(result))\n",
      "C:\\Users\\Stefa\\anaconda3\\lib\\site-packages\\sklearn\\metrics\\_classification.py:1318: UndefinedMetricWarning: Precision and F-score are ill-defined and being set to 0.0 in labels with no predicted samples. Use `zero_division` parameter to control this behavior.\n",
      "  _warn_prf(average, modifier, msg_start, len(result))\n",
      "C:\\Users\\Stefa\\anaconda3\\lib\\site-packages\\sklearn\\metrics\\_classification.py:1318: UndefinedMetricWarning: Precision and F-score are ill-defined and being set to 0.0 in labels with no predicted samples. Use `zero_division` parameter to control this behavior.\n",
      "  _warn_prf(average, modifier, msg_start, len(result))\n"
     ]
    }
   ],
   "source": [
    "# Train the model using the best parameters\n",
    "best_model_random = random_search.best_estimator_\n",
    "\n",
    "# Make predictions with the best model\n",
    "y_pred_random = best_model_random.predict(X_test_scaled)\n",
    "\n",
    "# Evaluate accuracy and classification report\n",
    "accuracy_random = accuracy_score(y_test, y_pred_random)\n",
    "class_report_random = classification_report(y_test, y_pred_random)\n",
    "\n",
    "print(f\"Accuracy (Grid Search): {accuracy_random}\")\n",
    "print(f\"Classification Report (Grid Search):\\n{class_report_random}\")\n"
   ]
  },
  {
   "cell_type": "markdown",
   "id": "b69aebb2",
   "metadata": {},
   "source": [
    "Confusion Matrix "
   ]
  },
  {
   "cell_type": "code",
   "execution_count": 18,
   "id": "fe3f7b99",
   "metadata": {},
   "outputs": [
    {
     "data": {
      "text/plain": [
       "<Figure size 1440x1152 with 0 Axes>"
      ]
     },
     "metadata": {},
     "output_type": "display_data"
    },
    {
     "data": {
      "image/png": "[encoded data removed]",
      "text/plain": [
       "<Figure size 432x288 with 2 Axes>"
      ]
     },
     "metadata": {
      "needs_background": "light"
     },
     "output_type": "display_data"
    }
   ],
   "source": [
    "# Compute the Confusion Matrix\n",
    "conf_matr = confusion_matrix(y_test, y_pred_random)\n",
    "\n",
    "# Create the confusion matrix display\n",
    "plt.figure(figsize=(20, 16))\n",
    "disp = ConfusionMatrixDisplay(confusion_matrix=conf_matr, display_labels=best_model_random.classes_)\n",
    "disp.plot(cmap=plt.cm.Blues)\n",
    "\n",
    "# Set labels and title\n",
    "plt.title('Confusion Matrix for Best SVM Model')\n",
    "plt.xticks(rotation=90)\n",
    "plt.show()"
   ]
  },
  {
   "cell_type": "code",
   "execution_count": null,
   "id": "0ca29e8e",
   "metadata": {},
   "outputs": [],
   "source": [
    "# Define the parameter grid for LinearSVC\n",
    "param_grid = {\n",
    "    'C': [0.1, 1, 10, 100],  # Regularization parameter\n",
    "    'penalty': ['l2'],  # The 'l2' penalty is the default for LinearSVC\n",
    "    'max_iter': [1000, 2000, 5000],  # Maximum number of iterations\n",
    "    'class_weight': [None, 'balanced']  # Handle class imbalance\n",
    "}\n",
    "\n",
    "# Create a LinearSVC model instance\n",
    "linear_svc = LinearSVC()\n",
    "\n",
    "# Initialize RandomizedSearchCV (with n_iter to limit the number of combinations)\n",
    "random_search = RandomizedSearchCV(estimator=linear_svc, param_distributions=param_grid, n_iter=50, cv=5, n_jobs=-1, verbose=2, random_state=42)\n",
    "\n",
    "# Fit random search to the data\n",
    "random_search.fit(X_train_scaled, y_train)\n",
    "\n",
    "# Get the best parameters and the best score\n",
    "print(\"Best parameters found: \", random_search.best_params_)\n",
    "print(\"Best cross-validation score: \", random_search.best_score_)\n",
    "\n",
    "# Train the model using the best parameters\n",
    "best_model_random = random_search.best_estimator_\n",
    "\n",
    "# Make predictions with the best model\n",
    "y_pred_random = best_model_random.predict(X_test_scaled)\n",
    "\n",
    "# Evaluate accuracy and classification report\n",
    "accuracy_random = accuracy_score(y_test, y_pred_random)\n",
    "class_report_random = classification_report(y_test, y_pred_random)\n",
    "\n",
    "print(f\"Accuracy (Randomized Search): {accuracy_random}\")\n",
    "print(f\"Classification Report (Randomized Search):\\n{class_report_random}\")\n",
    "\n"
   ]
  },
  {
   "cell_type": "code",
   "execution_count": null,
   "id": "cf6a0a6e",
   "metadata": {},
   "outputs": [],
   "source": [
    "# Split data into training and test \n",
    "X_train, X_test, y_train, y_test = train_test_split(features, target, test_size=0.2, random_state=42)\n",
    "\n",
    "# Scale features\n",
    "scaler = StandardScaler()\n",
    "X_train_scaled = scaler.fit_transform(X_train)\n",
    "X_test_scaled = scaler.transform(X_test)\n",
    "\n",
    "# Apply SMOTE to handle class imbalance\n",
    "smote = SMOTE(random_state=42)\n",
    "X_train_smote, y_train_smote = smote.fit_resample(X_train_scaled, y_train)\n",
    "\n",
    "# Initialize and train the SVM\n",
    "svm_model = LinearSVC()#penalty='l2', C=1, max_iter=1000)#penalty='l2', class_weight='balanced', max_iter=1000)#kernel='linear', C=10, gamma='scale', class_weight='balanced')\n",
    "svm_model.fit(X_train_smote, y_train_smote)\n",
    "\n",
    "# Make predictions\n",
    "y_pred = svm_model.predict(X_test_scaled)\n",
    "\n",
    "# Evalute accuracy \n",
    "accuracy = accuracy_score(y_test, y_pred)\n",
    "\n",
    "print(f\"Accuracy: {accuracy}\")\n",
    "\n",
    "# Display the classification report\n",
    "class_report = classification_report(y_test, y_pred)\n",
    "print(\"Classification Report:\\n\", class_report)"
   ]
  },
  {
   "cell_type": "code",
   "execution_count": null,
   "id": "a834c35d",
   "metadata": {},
   "outputs": [],
   "source": [
    "# Apply SMOTE to handle class imbalance\n",
    "smote = SMOTE(random_state=42)\n",
    "X_train_smote, y_train_smote = smote.fit_resample(X_train_scaled, y_train)\n",
    "\n",
    "# Initialize and train the SVM\n",
    "svm_model = SVC()\n",
    "svm_model.fit(X_train_smote, y_train_smote)\n",
    "\n",
    "# Make predictions\n",
    "y_pred = svm_model.predict(X_test_scaled)\n",
    "\n",
    "# Evaluate accuracy and classification report\n",
    "accuracy = accuracy_score(y_test, y_pred)\n",
    "print(f\"Accuracy: {accuracy}\")\n",
    "#print(classification_report(y_test, y_pred))"
   ]
  },
  {
   "cell_type": "code",
   "execution_count": null,
   "id": "57bce274",
   "metadata": {},
   "outputs": [],
   "source": [
    "param_grid = {\n",
    "    'C': [0.1, 1, 10],\n",
    "    'gamma': ['scale', 'auto', 0.1, 1],\n",
    "    'kernel': ['rbf', 'linear']\n",
    "}\n",
    "\n",
    "grid_search = GridSearchCV(SVC(), param_grid, cv=5)\n",
    "grid_search.fit(X_train_scaled, y_train)\n",
    "print(\"Best parameters:\", grid_search.best_params_)\n"
   ]
  },
  {
   "cell_type": "code",
   "execution_count": null,
   "id": "9a8445d2",
   "metadata": {},
   "outputs": [],
   "source": [
    "from sklearn.decomposition import PCA\n",
    "\n",
    "# Apply PCA to reduce to 2 dimensions\n",
    "pca = PCA(n_components=2)\n",
    "X_pca = pca.fit_transform(X_train)\n",
    "\n",
    "# Train the SVM model on the 2D PCA-transformed data\n",
    "svm_model.fit(X_pca, y_train)\n",
    "# Create a mesh to plot the decision boundary\n",
    "x_min, x_max = X_scaled[:, 0].min() - 1, X_scaled[:, 0].max() + 1\n",
    "y_min, y_max = X_scaled[:, 1].min() - 1, X_scaled[:, 1].max() + 1\n",
    "xx, yy = np.meshgrid(np.arange(x_min, x_max, 0.01), np.arange(y_min, y_max, 0.01))\n",
    "\n",
    "# Predict over the grid\n",
    "Z = svm_model.predict(np.c_[xx.ravel(), yy.ravel()])\n",
    "Z = Z.reshape(xx.shape)\n",
    "# Plot decision surface\n",
    "plt.contourf(xx, yy, Z, alpha=0.8, cmap=plt.cm.coolwarm)\n",
    "\n",
    "# Plot the training points\n",
    "plt.scatter(X_scaled[:, 0], X_scaled[:, 1], c=y, s=30, edgecolors='k', cmap=plt.cm.coolwarm)\n",
    "\n",
    "# Set labels and titles\n",
    "plt.xlabel('Total Deaths (scaled)')\n",
    "plt.ylabel('Total Affected (scaled)')\n",
    "plt.title('SVM Decision Surface')\n",
    "\n",
    "# Show the plot\n",
    "plt.show()\n"
   ]
  },
  {
   "cell_type": "code",
   "execution_count": 15,
   "id": "336f5046",
   "metadata": {},
   "outputs": [
    {
     "ename": "AttributeError",
     "evalue": "'SVC' object has no attribute 'classes_'",
     "output_type": "error",
     "traceback": [
      "\u001b[1;31m---------------------------------------------------------------------------\u001b[0m",
      "\u001b[1;31mAttributeError\u001b[0m                            Traceback (most recent call last)",
      "Input \u001b[1;32mIn [15]\u001b[0m, in \u001b[0;36m<cell line: 6>\u001b[1;34m()\u001b[0m\n\u001b[0;32m      4\u001b[0m plt\u001b[38;5;241m.\u001b[39mfigure(figsize\u001b[38;5;241m=\u001b[39m(\u001b[38;5;241m20\u001b[39m,\u001b[38;5;241m16\u001b[39m))\n\u001b[0;32m      5\u001b[0m \u001b[38;5;66;03m# Plot the confusion matrix\u001b[39;00m\n\u001b[1;32m----> 6\u001b[0m disp \u001b[38;5;241m=\u001b[39m ConfusionMatrixDisplay(confusion_matrix\u001b[38;5;241m=\u001b[39mconf_matr, display_labels\u001b[38;5;241m=\u001b[39m\u001b[43msvm\u001b[49m\u001b[38;5;241;43m.\u001b[39;49m\u001b[43mclasses_\u001b[49m)\n\u001b[0;32m      7\u001b[0m disp\u001b[38;5;241m.\u001b[39mplot(cmap\u001b[38;5;241m=\u001b[39mplt\u001b[38;5;241m.\u001b[39mcm\u001b[38;5;241m.\u001b[39mBlues)\n\u001b[0;32m      9\u001b[0m \u001b[38;5;66;03m# Set labels and title\u001b[39;00m\n",
      "\u001b[1;31mAttributeError\u001b[0m: 'SVC' object has no attribute 'classes_'"
     ]
    },
    {
     "data": {
      "text/plain": [
       "<Figure size 1440x1152 with 0 Axes>"
      ]
     },
     "metadata": {},
     "output_type": "display_data"
    }
   ],
   "source": [
    "# Compute the Confusion Matrix\n",
    "conf_matr = confusion_matrix(y_test, y_pred)\n",
    "\n",
    "plt.figure(figsize=(20,16))\n",
    "# Plot the confusion matrix\n",
    "disp = ConfusionMatrixDisplay(confusion_matrix=conf_matr, display_labels=svm_model.classes_)\n",
    "disp.plot(cmap=plt.cm.Blues)\n",
    "\n",
    "# Set labels and title\n",
    "plt.title('Confusion Matrix for SVM')\n",
    "plt.xticks(rotation=90)\n",
    "plt.show()"
   ]
  },
  {
   "cell_type": "code",
   "execution_count": null,
   "id": "7e6c78d6",
   "metadata": {},
   "outputs": [],
   "source": [
    "rf_model = RandomForestClassifier(n_estimators=100, random_state=42)\n",
    "rf_model.fit(X_train_scaled, y_train)\n",
    "y_pred_rf = rf_model.predict(X_test_scaled)\n",
    "accuracy_rf = accuracy_score(y_test, y_pred_rf)\n",
    "print(f\"Random Forest Accuracy: {accuracy_rf}\")\n"
   ]
  },
  {
   "cell_type": "markdown",
   "id": "39782210",
   "metadata": {},
   "source": [
    "# SVM"
   ]
  },
  {
   "cell_type": "markdown",
   "id": "6bd9489f",
   "metadata": {},
   "source": [
    "Implementing feature selection, data encoding, K-fold cross validation, and fitting SVM model"
   ]
  },
  {
   "cell_type": "code",
   "execution_count": null,
   "id": "53799789",
   "metadata": {},
   "outputs": [],
   "source": [
    "# Select features and target\n",
    "features = ['Country', 'Total Deaths', 'No. Affected', 'No. Injured', 'Disaster Group', 'Disaster Subgroup']\n",
    "target = 'Disaster Type'\n",
    "\n",
    "# Encode categorical features\n",
    "data_encoded = pd.get_dummies(data[features])\n",
    "\n",
    "# Scale numeric features\n",
    "scaler = StandardScaler()\n",
    "data_encoded_scaled = scaler.fit_transform(data_encoded)\n",
    "\n",
    "# Encode the target (Disaster Type)\n",
    "le = LabelEncoder()\n",
    "data['Disaster Group Encoded'] = le.fit_transform(data[target])\n",
    "\n",
    "# Split data into features (X) and target (y)\n",
    "X = data_encoded_scaled\n",
    "y = data['Disaster Group Encoded']\n",
    "\n",
    "# Split data into training and testing sets\n",
    "#X_train, X_test, y_train, y_test = train_test_split(data_encoded_scaled, data['Disaster Group Encoded'], test_size=0.3, random_state=42)\n",
    "\n",
    "# Implement K-fold Cross Validation\n",
    "kf = KFold(n_splits=5, shuffle=True, random_state=42)\n",
    "\n",
    "# Train SVM model\n",
    "svm_model = SVC()\n",
    "\n",
    "# Cross-validation scores\n",
    "cv_scores = cross_val_score(svm_model, X, y, cv=kf, scoring='accuracy')\n",
    "\n",
    "# Print the cross-validation results\n",
    "print(f'Cross-validation scores: {cv_scores}')\n",
    "print(f'Mean cross-validation accuracy: {cv_scores.mean() * 100:.2f}%')\n",
    "\n",
    "# 2. Hyperparameter Tuning with GridSearchCV\n",
    "param_grid = {\n",
    "    'C': [0.1, 1, 10],        # Regularization parameter\n",
    "    'gamma': ['scale', 'auto'],  # Kernel coefficient\n",
    "    'kernel': ['linear', 'rbf']  # Kernel type\n",
    "}\n",
    "\n",
    "# Grid search with 5-fold cross-validation\n",
    "grid_search = GridSearchCV(SVC(), param_grid, cv=kf, scoring='accuracy')\n",
    "\n",
    "# Fit grid search\n",
    "grid_search.fit(X, y)\n",
    "\n",
    "# Best hyperparameters found by GridSearchCV\n",
    "print(f'Best hyperparameters: {grid_search.best_params_}')\n",
    "\n",
    "# Best model after hyperparameter tuning\n",
    "best_svm_model = grid_search.best_estimator_\n",
    "\n",
    "# Train and evaluate the best model\n",
    "best_svm_model.fit(X, y)\n",
    "\n",
    "# Predict on the same data (for example)\n",
    "y_pred = best_svm_model.predict(X)\n",
    "\n",
    "# Evaluate accuracy\n",
    "accuracy = accuracy_score(y, y_pred)\n",
    "print(f'Accuracy with best model: {accuracy * 100:.2f}%')\n",
    "# svm_model.fit(X_train, y_train)\n",
    "\n",
    "# # Predict on test set\n",
    "# y_pred = svm_model.predict(X_test)\n",
    "\n",
    "# # Evaluate accuracy\n",
    "# accuracy = accuracy_score(y_test, y_pred)\n",
    "# print(f'Accuracy: {accuracy * 100:.2f}%')\n"
   ]
  },
  {
   "cell_type": "markdown",
   "id": "7f81cd61",
   "metadata": {},
   "source": [
    "Display Confusion Matrix"
   ]
  },
  {
   "cell_type": "code",
   "execution_count": null,
   "id": "f764ceb6",
   "metadata": {},
   "outputs": [],
   "source": [
    "from sklearn.metrics import confusion_matrix, ConfusionMatrixDisplay\n",
    "# Compute the Confusion Matrix\n",
    "conf_matr = confusion_matrix(y_test, y_pred)\n",
    "\n",
    "# Plot the Confusion Matrix\n",
    "disp = ConfusionMatrixDisplay(confusion_matrix=conf_matr, display_labels=le.classes_)\n",
    "disp.plot(cmap=plt.cm.Blues)\n",
    "plt.title('Confusion Matrix for SVM Model')\n",
    "plt.show()"
   ]
  }
 ],
 "metadata": {
  "kernelspec": {
   "display_name": "Python 3 (ipykernel)",
   "language": "python",
   "name": "python3"
  },
  "language_info": {
   "codemirror_mode": {
    "name": "ipython",
    "version": 3
   },
   "file_extension": ".py",
   "mimetype": "text/x-python",
   "name": "python",
   "nbconvert_exporter": "python",
   "pygments_lexer": "ipython3",
   "version": "3.9.12"
  }
 },
 "nbformat": 4,
 "nbformat_minor": 5
}
